{
 "cells": [
  {
   "cell_type": "code",
   "execution_count": 1,
   "metadata": {},
   "outputs": [],
   "source": [
    "import requests\n",
    "from bs4 import BeautifulSoup\n",
    "\n",
    "# URL'yi belirleyin\n",
    "url = \"https://www.endeksa.com/tr/analiz/turkiye/endeks/kiralik/konut\"\n",
    "\n",
    "# Sayfayı çekin\n",
    "response = requests.get(url)\n",
    "\n",
    "# Sayfa içeriğini BeautifulSoup ile ayrıştırın\n",
    "soup = BeautifulSoup(response.content, 'html.parser')\n",
    "\n",
    "# İlgili <a> etiketlerini arayın\n",
    "links = soup.find_all('a', href=True, attrs={'ng-href': True})\n",
    "\n",
    "# Sonuçları yazdırın\n",
    "for link in links:\n",
    "    print(f\"Text: {link.text}, Href: {link['href']}\")\n"
   ]
  },
  {
   "cell_type": "code",
   "execution_count": 12,
   "metadata": {},
   "outputs": [
    {
     "name": "stdout",
     "output_type": "stream",
     "text": [
      "Sayfa yükleniyor, lütfen bekleyin...\n",
      "HTML içeriği 'output.html' dosyasına kaydedildi.\n"
     ]
    }
   ],
   "source": [
    "import cfscrape\n",
    "from bs4 import BeautifulSoup\n",
    "import time\n",
    "\n",
    "# Bekleme süresi (örneğin 5 saniye)\n",
    "print(\"Sayfa yükleniyor, lütfen bekleyin...\")\n",
    "time.sleep(15)\n",
    "\n",
    "# Cloudflare korumalı sayfayı al\n",
    "scraper = cfscrape.create_scraper()\n",
    "url = \"https://www.endeksa.com/tr/analiz/turkiye/endeks/kiralik/konut\"\n",
    "response = scraper.get(url)\n",
    "\n",
    "# Sayfanın içeriğini BeautifulSoup ile ayrıştır\n",
    "soup = BeautifulSoup(response.text, 'html.parser')\n",
    "\n",
    "# Ayrıştırılmış HTML'yi dosyaya kaydet\n",
    "with open(\"output.html\", \"w\", encoding=\"utf-8\") as file:\n",
    "    file.write(soup.prettify())\n",
    "\n",
    "print(\"HTML içeriği 'output.html' dosyasına kaydedildi.\")\n"
   ]
  },
  {
   "cell_type": "code",
   "execution_count": 13,
   "metadata": {},
   "outputs": [
    {
     "name": "stdout",
     "output_type": "stream",
     "text": [
      "HTML içeriği 'output.html' dosyasına kaydedildi.\n"
     ]
    }
   ],
   "source": [
    "import undetected_chromedriver as uc\n",
    "import time\n",
    "\n",
    "driver = uc.Chrome()\n",
    "\n",
    "# URL'yi aç\n",
    "url = \"https://www.endeksa.com/tr/analiz/turkiye/endeks/kiralik/konut\"\n",
    "driver.get(url)\n",
    "\n",
    "# Sayfanın tamamen yüklenmesini bekleyin\n",
    "time.sleep(10)\n",
    "\n",
    "# HTML kaydet\n",
    "with open(\"output.html\", \"w\", encoding=\"utf-8\") as file:\n",
    "    file.write(driver.page_source)\n",
    "\n",
    "print(\"HTML içeriği 'output.html' dosyasına kaydedildi.\")\n",
    "\n",
    "# Tarayıcıyı kapat\n",
    "driver.quit()\n"
   ]
  }
 ],
 "metadata": {
  "kernelspec": {
   "display_name": "Python 3",
   "language": "python",
   "name": "python3"
  },
  "language_info": {
   "codemirror_mode": {
    "name": "ipython",
    "version": 3
   },
   "file_extension": ".py",
   "mimetype": "text/x-python",
   "name": "python",
   "nbconvert_exporter": "python",
   "pygments_lexer": "ipython3",
   "version": "3.11.9"
  }
 },
 "nbformat": 4,
 "nbformat_minor": 2
}
